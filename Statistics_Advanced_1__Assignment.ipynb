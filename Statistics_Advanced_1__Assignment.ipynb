{
  "nbformat": 4,
  "nbformat_minor": 0,
  "metadata": {
    "colab": {
      "provenance": []
    },
    "kernelspec": {
      "name": "python3",
      "display_name": "Python 3"
    },
    "language_info": {
      "name": "python"
    }
  },
  "cells": [
    {
      "cell_type": "markdown",
      "source": [
        "**Statistics Advanced - 1| Assignment**\n",
        "\n",
        "**Question 1:** What is a random variable in probability theory?\n",
        "\n",
        "  -  A random variable is a variable whose possible values are outcomes of a random phenomenon, each having a certain probability.\n",
        "\n",
        "\n",
        "**Question 2:** What are the types of random variables?\n",
        "\n",
        "  - The two main types of random variables are:\n",
        "  - Discrete Random Variable – Takes only specific separate values (countable).\n",
        " Example: Number of goals scored in a football match.\n",
        "\n",
        "\n",
        "  - Continuous Random Variable – Can take any value within a continuous range (uncountable).\n",
        " Example: Temperature in a city during the day.\n",
        "\n",
        "**Question 3:** Explain the difference between discrete and continuous distributions.\n",
        "  - A discrete distribution is when the random variable can take only specific separate values. Example: Number of students in a class, number of goals in a match. These values are countable.\n",
        "  - A continuous distribution is when the random variable can take any value within a given range. Example: Height of people, weight, temperature. These values are measurable and infinite in possible outcomes.\n",
        "  - Main difference: Discrete = countable values, Continuous = measurable values.\n",
        "\n",
        "\n",
        "**Question 4:** What is a binomial distribution, and how is it used in probability?\n",
        "  - A binomial distribution is a type of probability distribution that represents the number of successes in a fixed number of independent trials, where each trial has only two possible outcomes: success or failure. The probability of success remains the same for each trial.\n",
        "  - It is used when:\n",
        "  - The number of trials (n) is fixed.\n",
        "  - Each trial is independent.\n",
        "  - There are only two outcomes (success or failure).\n",
        "  - The probability of success (p) is the same in all trials.\n",
        "  - The probability of getting exactly k successes in n trials is calculated using the formula:\n",
        "P(X = k) = (n! / [k! × (n − k)!]) × (p^k) × (q^(n − k))\n",
        "  - Here:\n",
        "  - n = number of trials\n",
        "  - k = number of successes\n",
        "  - p = probability of success\n",
        "  - q = probability of failure (q = 1 − p)\n",
        "\n",
        "\n",
        "  - Example:\n",
        " If a coin is tossed 5 times and the probability of getting heads (success) is 0.5, the binomial distribution can be used to find the probability of getting exactly 3 heads.\n",
        "\n",
        "\n",
        "**Question 5:** What is the standard normal distribution, and why is it important?\n",
        "  - The standard normal distribution is a type of normal distribution where:\n",
        "The mean (μ) is equal to 0\n",
        "  - The standard deviation (σ) is equal to 1\n",
        "  - It is also called the Z-distribution.\n",
        " The horizontal axis is measured in Z-scores, which tell us how many standard deviations a value is from the mean.\n",
        "Importance:\n",
        "  - It helps in calculating probabilities and comparing different datasets by converting values to Z-scores.\n",
        "  - Many statistical methods and hypothesis tests are based on the standard normal distribution.\n",
        "  - It allows us to use Z-tables to quickly find the probability of values in a normal distribution.\n",
        "  - Example: If a student scores a Z-score of +2, it means they are 2 standard deviations above the mean.\n",
        "\n",
        "**Question 6:** What is the Central Limit Theorem (CLT), and why is it critical in statistics?\n",
        "  - The Central Limit Theorem says that if we take a large number of random samples from any population and find their means, the distribution of these sample means will be approximately normal, even if the original population is not normally distributed.\n",
        "  - It is important because it allows us to use normal distribution properties to make inferences about population parameters. This means we can apply statistical tests and confidence intervals more reliably, even when the population distribution is unknown, as long as the sample size is big enoug\n",
        "  \n",
        "\n",
        "**Question 7:** What is the significance of confidence intervals in statistical analysis?\n",
        " - Confidence interval is a range of values which is used to estimate an unknown population parameter. It gives an idea of how sure we are about the estimate.\n",
        " - It is important because instead of giving only one value, it shows a range and a level of confidence like 95% or 99%, which means if we repeat the experiment many times, the true value will fall in this range most of the time. This helps to understand both the accuracy and the uncertainty in the results.\n",
        "\n",
        "**Question 8:** What is the concept of expected value in a probability distribution?\n",
        " - Expected value is the average outcome we would expect if we repeated an experiment many times. It is calculated by multiplying each possible value by its probability and then adding all these results. It represents the long-term average and helps in decision making under uncertainty.\n",
        "\n",
        "\n"
      ],
      "metadata": {
        "id": "ui9eYg0y6gfK"
      }
    },
    {
      "cell_type": "code",
      "source": [
        "''' Question 9: Write a Python program to generate 1000 random numbers from a normal\n",
        "distribution with mean = 50 and standard deviation = 5. Compute its mean and standard\n",
        "deviation using NumPy, and draw a histogram to visualize the distribution. '''\n",
        "\n",
        "import numpy as np\n",
        "import matplotlib.pyplot as plt\n",
        "\n",
        "# Generate 1000 random numbers from a normal distribution\n",
        "mean = 50\n",
        "std_dev = 5\n",
        "data = np.random.normal(mean, std_dev, 1000)\n",
        "\n",
        "# Compute mean and standard deviation\n",
        "calculated_mean = np.mean(data)\n",
        "calculated_std_dev = np.std(data)\n",
        "\n",
        "print(\"Calculated Mean:\", calculated_mean)\n",
        "print(\"Calculated Standard Deviation:\", calculated_std_dev)\n",
        "\n",
        "# Plot histogram\n",
        "plt.hist(data, bins=30, color='skyblue', edgecolor='black')\n",
        "plt.title(\"Normal Distribution Histogram\")\n",
        "plt.xlabel(\"Value\")\n",
        "plt.ylabel(\"Frequency\")\n",
        "plt.grid(True)\n",
        "plt.show()"
      ],
      "metadata": {
        "colab": {
          "base_uri": "https://localhost:8080/",
          "height": 508
        },
        "id": "2icWLUhv9Me9",
        "outputId": "3d877b64-1173-4175-ab2f-58cf9f0f96ed"
      },
      "execution_count": 1,
      "outputs": [
        {
          "output_type": "stream",
          "name": "stdout",
          "text": [
            "Calculated Mean: 50.222569129741444\n",
            "Calculated Standard Deviation: 4.876439113699846\n"
          ]
        },
        {
          "output_type": "display_data",
          "data": {
            "text/plain": [
              "<Figure size 640x480 with 1 Axes>"
            ],
            "image/png": "[encoded data removed]"
          },
          "metadata": {}
        }
      ]
    },
    {
      "cell_type": "code",
      "source": [
        "''' Question 10: You are working as a data analyst for a retail company. The company has\n",
        "collected daily sales data for 2 years and wants you to identify the overall sales trend.\n",
        "daily_sales = [220, 245, 210, 265, 230, 250, 260, 275, 240, 255,\n",
        "235, 260, 245, 250, 225, 270, 265, 255, 250, 260]\n",
        "a. Explain how you would apply the Central Limit Theorem to estimate the average sales\n",
        "with a 95% confidence interval.\n",
        "b. Write the Python code to compute the mean sales and its confidence interval. '''\n",
        "\n",
        "''' Answer a. Central Limit Theorem (CLT) says that if we take many random samples from a population and calculate the mean of each sample, these means will form a normal distribution, even if the original data is not normal.\n",
        "\n",
        "In our case, the daily sales data is a sample from the population of all possible sales days. According to CLT, the sample mean will be close to the population mean, and we can calculate a 95% confidence interval for the true mean sales using:\n",
        "\n",
        "Confidence Interval = sample mean ± (z-score × standard error)\n",
        "Where standard error = standard deviation / √sample size.\n",
        "For 95% confidence, z-score = 1.96. '''\n",
        "\n",
        "# Central Limit Theorem applied to daily sales data\n",
        "# We calculate mean and 95% confidence interval\n",
        "\n",
        "import numpy as np\n",
        "\n",
        "# Given daily sales data\n",
        "daily_sales = [220, 245, 210, 265, 230, 250, 260, 275, 240, 255,\n",
        "               235, 260, 245, 250, 225, 270, 265, 255, 250, 260]\n",
        "\n",
        "# Convert to numpy array\n",
        "data = np.array(daily_sales)\n",
        "\n",
        "# Mean of sales\n",
        "mean_sales = np.mean(data)\n",
        "\n",
        "# Standard deviation (sample)\n",
        "std_dev = np.std(data, ddof=1)\n",
        "\n",
        "# Sample size\n",
        "n = len(data)\n",
        "\n",
        "# Z-score for 95% confidence\n",
        "z = 1.96\n",
        "\n",
        "# Standard error\n",
        "std_error = std_dev / np.sqrt(n)\n",
        "\n",
        "# Margin of error\n",
        "margin_error = z * std_error\n",
        "\n",
        "# Confidence interval\n",
        "ci_lower = mean_sales - margin_error\n",
        "ci_upper = mean_sales + margin_error\n",
        "\n",
        "# Output\n",
        "print(\"Mean Sales:\", round(mean_sales, 2))\n",
        "print(\"95% Confidence Interval: ({:.2f}, {:.2f})\".format(ci_lower, ci_upper))"
      ],
      "metadata": {
        "colab": {
          "base_uri": "https://localhost:8080/"
        },
        "id": "c-6jGziH-BTP",
        "outputId": "d0699f63-f91c-423a-eb82-83388c83470b"
      },
      "execution_count": 2,
      "outputs": [
        {
          "output_type": "stream",
          "name": "stdout",
          "text": [
            "Mean Sales: 248.25\n",
            "95% Confidence Interval: (240.68, 255.82)\n"
          ]
        }
      ]
    }
  ]
}